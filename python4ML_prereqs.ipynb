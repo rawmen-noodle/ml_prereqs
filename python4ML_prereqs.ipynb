{
  "nbformat": 4,
  "nbformat_minor": 0,
  "metadata": {
    "colab": {
      "provenance": [],
      "authorship_tag": "ABX9TyMy5ddxKXvdg3BHArkKyMjg",
      "include_colab_link": true
    },
    "kernelspec": {
      "name": "python3",
      "display_name": "Python 3"
    },
    "language_info": {
      "name": "python"
    }
  },
  "cells": [
    {
      "cell_type": "markdown",
      "metadata": {
        "id": "view-in-github",
        "colab_type": "text"
      },
      "source": [
        "<a href=\"https://colab.research.google.com/github/rawmen-noodle/ml_prereqs/blob/rawmen-noodle-patch-20240708-skkotte/python4ML_prereqs.ipynb\" target=\"_parent\"><img src=\"https://colab.research.google.com/assets/colab-badge.svg\" alt=\"Open In Colab\"/></a>"
      ]
    },
    {
      "cell_type": "markdown",
      "source": [
        "# **Machine Learning Pre-requisites:**"
      ],
      "metadata": {
        "id": "TX4boNjdw50p"
      }
    },
    {
      "cell_type": "markdown",
      "source": [
        "# 1. **Programming Skills**\n",
        "   - **Python Basics**:\n",
        "     - Variables, Data Types, and Operators\n",
        "     - Control Structures (if statements, loops)\n",
        "     - Functions and Modules\n",
        "     - File I/O\n",
        "     - Exception Handling\n",
        "\n",
        "   - **Advanced Python**:\n",
        "     - Object-Oriented Programming (OOP)\n",
        "     - Functional Programming\n",
        "     - Generators and Iterators\n",
        "     - Decorators and Context Managers\n",
        "     - Working with Packages and Virtual Environments"
      ],
      "metadata": {
        "id": "0kZDutYozOiE"
      }
    },
    {
      "cell_type": "code",
      "source": [
        "#Python Basics\n",
        "#Variables\n",
        "x=5\n",
        "y=\"Hello\"\n",
        "print(x)\n",
        "print(y)"
      ],
      "metadata": {
        "id": "Kc5SDdo30Ax9",
        "outputId": "f9eb5648-3361-4b06-b772-17f4385663f7",
        "colab": {
          "base_uri": "https://localhost:8080/"
        }
      },
      "execution_count": null,
      "outputs": [
        {
          "output_type": "stream",
          "name": "stdout",
          "text": [
            "5\n",
            "Hello\n"
          ]
        }
      ]
    },
    {
      "cell_type": "code",
      "source": [
        "#control structures\n",
        "#1 : IF\n",
        "x=2\n",
        "if(x%2==0):\n",
        "  print(\"input number if even\")"
      ],
      "metadata": {
        "id": "XNKvW6Qn0040",
        "outputId": "3d890ec6-f375-49b9-8442-1e8324d80f76",
        "colab": {
          "base_uri": "https://localhost:8080/"
        }
      },
      "execution_count": null,
      "outputs": [
        {
          "output_type": "stream",
          "name": "stdout",
          "text": [
            "input number if even\n"
          ]
        }
      ]
    },
    {
      "cell_type": "code",
      "source": [
        "#IF-ELSE\n",
        "x=125\n",
        "if(x%2==0):\n",
        "  print(\"input number is even\")\n",
        "else:\n",
        "  print(\"input number is odd\")"
      ],
      "metadata": {
        "id": "3jhlHJJy1Ypd",
        "outputId": "d5d4264f-d83e-4019-fb38-740e3ee622eb",
        "colab": {
          "base_uri": "https://localhost:8080/"
        }
      },
      "execution_count": null,
      "outputs": [
        {
          "output_type": "stream",
          "name": "stdout",
          "text": [
            "input number is odd\n"
          ]
        }
      ]
    },
    {
      "cell_type": "code",
      "source": [
        "#IF-ELSEIF-ELSE\n",
        "age = 18\n",
        "if age < 13:\n",
        "    print(\"You are a child.\")\n",
        "elif 13 <= age < 18:\n",
        "    print(\"You are a teenager.\")\n",
        "else:\n",
        "    print(\"You are an adult.\")\n"
      ],
      "metadata": {
        "id": "jL5aTtSP11Xl",
        "outputId": "5c8e95cf-34d4-460a-b509-d4fbd5a190c0",
        "colab": {
          "base_uri": "https://localhost:8080/"
        }
      },
      "execution_count": null,
      "outputs": [
        {
          "output_type": "stream",
          "name": "stdout",
          "text": [
            "You are an adult.\n"
          ]
        }
      ]
    },
    {
      "cell_type": "code",
      "source": [
        "#Nest IF\n",
        "age = 22\n",
        "if age >= 18:\n",
        "    if age >= 21:\n",
        "        print(\"You can drink alcohol.\")\n",
        "    else:\n",
        "        print(\"You can vote but not drink alcohol.\")\n",
        "else:\n",
        "    print(\"You are a minor.\")\n"
      ],
      "metadata": {
        "id": "ygtx-wDK2C1S",
        "outputId": "f7064d06-42b8-4c7e-d1ca-a408f0581955",
        "colab": {
          "base_uri": "https://localhost:8080/"
        }
      },
      "execution_count": null,
      "outputs": [
        {
          "output_type": "stream",
          "name": "stdout",
          "text": [
            "You can drink alcohol.\n"
          ]
        }
      ]
    },
    {
      "cell_type": "code",
      "source": [
        "#loops for\n",
        "# Iterating over a list\n",
        "fruits = [\"apple\", \"banana\", \"cherry\"]\n",
        "for fruit in fruits:\n",
        "    print(fruit)\n",
        "\n",
        "# Iterating over a range of numbers\n",
        "for i in range(5):\n",
        "    print(i)\n"
      ],
      "metadata": {
        "id": "tlF6plNg2TwJ",
        "outputId": "30b7aedb-be45-41e4-d1f1-1c550066a6b0",
        "colab": {
          "base_uri": "https://localhost:8080/"
        }
      },
      "execution_count": null,
      "outputs": [
        {
          "output_type": "stream",
          "name": "stdout",
          "text": [
            "apple\n",
            "banana\n",
            "cherry\n",
            "0\n",
            "1\n",
            "2\n",
            "3\n",
            "4\n"
          ]
        }
      ]
    },
    {
      "cell_type": "code",
      "source": [
        "fruits = [\"apple\", \"banana\", \"cherry\"]\n",
        "for i in range(4):\n",
        "    for fruit in fruits:\n",
        "        print(f'{i} {fruit}')"
      ],
      "metadata": {
        "id": "z5_fajsi2cjR",
        "outputId": "176b3db1-eedb-4927-a91c-d6ce255bb4df",
        "colab": {
          "base_uri": "https://localhost:8080/"
        }
      },
      "execution_count": null,
      "outputs": [
        {
          "output_type": "stream",
          "name": "stdout",
          "text": [
            "0 apple\n",
            "0 banana\n",
            "0 cherry\n",
            "1 apple\n",
            "1 banana\n",
            "1 cherry\n",
            "2 apple\n",
            "2 banana\n",
            "2 cherry\n",
            "3 apple\n",
            "3 banana\n",
            "3 cherry\n"
          ]
        }
      ]
    },
    {
      "cell_type": "code",
      "source": [
        "# break example\n",
        "for i in range(5):\n",
        "    if i == 3:\n",
        "        break\n",
        "    print(i)  # Output: 0, 1, 2\n",
        "\n",
        "# continue example\n",
        "for i in range(5):\n",
        "    if i == 3:\n",
        "        continue\n",
        "    print(i)  # Output: 0, 1, 2, 4\n",
        "\n",
        "# else example\n",
        "for i in range(5):\n",
        "    print(i)\n",
        "else:\n",
        "    print(\"Loop completed without break\")  # This will be printed\n"
      ],
      "metadata": {
        "id": "6dRSwefO3F93",
        "outputId": "9f7e2fc9-2fae-4f01-e832-8c83f4b36c8f",
        "colab": {
          "base_uri": "https://localhost:8080/"
        }
      },
      "execution_count": null,
      "outputs": [
        {
          "output_type": "stream",
          "name": "stdout",
          "text": [
            "0\n",
            "1\n",
            "2\n",
            "0\n",
            "1\n",
            "2\n",
            "4\n",
            "0\n",
            "1\n",
            "2\n",
            "3\n",
            "4\n",
            "Loop completed without break\n"
          ]
        }
      ]
    },
    {
      "cell_type": "code",
      "source": [
        "count = 0\n",
        "while count < 101:\n",
        "    print(count)\n",
        "    count += 1\n"
      ],
      "metadata": {
        "id": "ioS5thw63XuA",
        "outputId": "b9c8e709-e45a-4021-a2bb-d453fdf7601a",
        "colab": {
          "base_uri": "https://localhost:8080/"
        }
      },
      "execution_count": null,
      "outputs": [
        {
          "output_type": "stream",
          "name": "stdout",
          "text": [
            "0\n",
            "1\n",
            "2\n",
            "3\n",
            "4\n",
            "5\n",
            "6\n",
            "7\n",
            "8\n",
            "9\n",
            "10\n",
            "11\n",
            "12\n",
            "13\n",
            "14\n",
            "15\n",
            "16\n",
            "17\n",
            "18\n",
            "19\n",
            "20\n",
            "21\n",
            "22\n",
            "23\n",
            "24\n",
            "25\n",
            "26\n",
            "27\n",
            "28\n",
            "29\n",
            "30\n",
            "31\n",
            "32\n",
            "33\n",
            "34\n",
            "35\n",
            "36\n",
            "37\n",
            "38\n",
            "39\n",
            "40\n",
            "41\n",
            "42\n",
            "43\n",
            "44\n",
            "45\n",
            "46\n",
            "47\n",
            "48\n",
            "49\n",
            "50\n",
            "51\n",
            "52\n",
            "53\n",
            "54\n",
            "55\n",
            "56\n",
            "57\n",
            "58\n",
            "59\n",
            "60\n",
            "61\n",
            "62\n",
            "63\n",
            "64\n",
            "65\n",
            "66\n",
            "67\n",
            "68\n",
            "69\n",
            "70\n",
            "71\n",
            "72\n",
            "73\n",
            "74\n",
            "75\n",
            "76\n",
            "77\n",
            "78\n",
            "79\n",
            "80\n",
            "81\n",
            "82\n",
            "83\n",
            "84\n",
            "85\n",
            "86\n",
            "87\n",
            "88\n",
            "89\n",
            "90\n",
            "91\n",
            "92\n",
            "93\n",
            "94\n",
            "95\n",
            "96\n",
            "97\n",
            "98\n",
            "99\n",
            "100\n"
          ]
        }
      ]
    },
    {
      "cell_type": "code",
      "source": [
        "count = 0\n",
        "while count < 101:\n",
        "    count += 1\n",
        "print(count)"
      ],
      "metadata": {
        "id": "G92Qx_bc3fdK"
      },
      "execution_count": null,
      "outputs": []
    },
    {
      "cell_type": "markdown",
      "source": [
        "#### 2. **Mathematics**\n",
        "   - **Linear Algebra**:\n",
        "     - Vectors and Matrices\n",
        "     - Matrix Operations (addition, multiplication, inversion)\n",
        "     - Determinants and Eigenvalues/Eigenvectors\n",
        "     - Vector Spaces and Linear Transformations\n",
        "\n",
        "   - **Calculus**:\n",
        "     - Derivatives and Integrals\n",
        "     - Partial Derivatives\n",
        "     - Chain Rule\n",
        "     - Gradient Descent\n",
        "\n",
        "   - **Probability and Statistics**:\n",
        "     - Probability Theory (independence, conditional probability, Bayes' theorem)\n",
        "     - Probability Distributions (normal, binomial, Poisson)\n",
        "     - Descriptive Statistics (mean, median, mode, variance, standard deviation)\n",
        "     - Inferential Statistics (hypothesis testing, confidence intervals)\n",
        "     - Statistical Significance and p-values\n"
      ],
      "metadata": {
        "id": "BJqGJ1NOzeD3"
      }
    },
    {
      "cell_type": "markdown",
      "source": [
        "#### 3. **Data Handling and Preprocessing**\n",
        "   - **Data Structures**:\n",
        "     - Arrays and Lists\n",
        "     - Dictionaries and Sets\n",
        "     - Stacks and Queues\n",
        "     - Trees and Graphs\n",
        "\n",
        "   - **Data Manipulation**:\n",
        "     - Using NumPy for numerical operations\n",
        "     - Using Pandas for data manipulation (Series, DataFrames)\n",
        "     - Data Cleaning (handling missing values, duplicates)\n",
        "     - Data Transformation (scaling, normalization, encoding categorical variables)\n",
        "     - Data Aggregation and Grouping\n"
      ],
      "metadata": {
        "id": "laQwt5Onzt77"
      }
    },
    {
      "cell_type": "markdown",
      "source": [
        "\n",
        "#### 4. **Data Visualization**\n",
        "   - **Plotting and Visualization**:\n",
        "     - Matplotlib (line plots, scatter plots, histograms)\n",
        "     - Seaborn (statistical plots, heatmaps)\n",
        "     - Plotly or Bokeh for interactive visualizations\n",
        "     - Visualization best practices"
      ],
      "metadata": {
        "id": "Cd1izYuMz3iV"
      }
    },
    {
      "cell_type": "code",
      "execution_count": null,
      "metadata": {
        "id": "mnlcVwn6t8PT"
      },
      "outputs": [],
      "source": []
    }
  ]
}